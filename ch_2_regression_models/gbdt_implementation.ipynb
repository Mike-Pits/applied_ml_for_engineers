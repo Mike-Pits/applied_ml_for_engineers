{
 "cells": [
  {
   "cell_type": "code",
   "execution_count": 5,
   "metadata": {},
   "outputs": [],
   "source": [
    "from sklearn.tree import DecisionTreeRegressor\n",
    "import numpy as np "
   ]
  },
  {
   "cell_type": "code",
   "execution_count": 6,
   "metadata": {},
   "outputs": [
    {
     "ename": "NameError",
     "evalue": "name 'y' is not defined",
     "output_type": "error",
     "traceback": [
      "\u001b[0;31m---------------------------------------------------------------------------\u001b[0m",
      "\u001b[0;31mNameError\u001b[0m                                 Traceback (most recent call last)",
      "Cell \u001b[0;32mIn[6], line 5\u001b[0m\n\u001b[1;32m      3\u001b[0m trees \u001b[38;5;241m=\u001b[39m [] \u001b[38;5;66;03m# Trees that comprise the model\u001b[39;00m\n\u001b[1;32m      4\u001b[0m \u001b[38;5;66;03m# Compute the mean of all the target values\u001b[39;00m\n\u001b[0;32m----> 5\u001b[0m y_pred \u001b[38;5;241m=\u001b[39m np\u001b[38;5;241m.\u001b[39marray([\u001b[43my\u001b[49m\u001b[38;5;241m.\u001b[39mmean()] \u001b[38;5;241m*\u001b[39m \u001b[38;5;28mlen\u001b[39m(y))\n\u001b[1;32m      6\u001b[0m baseline \u001b[38;5;241m=\u001b[39m y_pred\n\u001b[1;32m      7\u001b[0m \u001b[38;5;66;03m# Create n_trees and train each with the error\u001b[39;00m\n\u001b[1;32m      8\u001b[0m \u001b[38;5;66;03m# in the output from the previous tree\u001b[39;00m\n",
      "\u001b[0;31mNameError\u001b[0m: name 'y' is not defined"
     ]
    }
   ],
   "source": [
    "learning_rate = 0.1 # Learning rate\n",
    "n_trees = 100 # Number of decision trees\n",
    "trees = [] # Trees that comprise the model\n",
    "# Compute the mean of all the target values\n",
    "y_pred = np.array([y.mean()] * len(y))\n",
    "baseline = y_pred\n",
    "# Create n_trees and train each with the error\n",
    "# in the output from the previous tree\n",
    "for i in range(n_trees):\n",
    "    error = y - y_pred\n",
    "    tree = DecisionTreeRegressor(max_depth=1, random_state=0)\n",
    "    tree.fit(x, error)\n",
    "    predictions = tree.predict(x)\n",
    "    y_pred = y_pred + (learning_rate * predictions)\n",
    "    trees.append(tree)# Predict a y for x=10\n",
    "y_pred = np.array([baseline[0]] * len(x))\n",
    "for tree in trees:\n",
    "    y_pred = y_pred + (learning_rate * tree.predict([[10.0]]))\n",
    "y_pred[0]"
   ]
  },
  {
   "cell_type": "code",
   "execution_count": null,
   "metadata": {},
   "outputs": [],
   "source": []
  }
 ],
 "metadata": {
  "kernelspec": {
   "display_name": "base",
   "language": "python",
   "name": "python3"
  },
  "language_info": {
   "name": "python",
   "version": "3.10.10"
  }
 },
 "nbformat": 4,
 "nbformat_minor": 2
}
